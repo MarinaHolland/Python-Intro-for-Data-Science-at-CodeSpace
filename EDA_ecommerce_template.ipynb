{
 "cells": [
  {
   "cell_type": "markdown",
   "metadata": {},
   "source": [
    "# Caso práctico -  Análisis de las transacciones de un negocio ecommerce\n",
    "### 📈 <b>Contexto del negocio y la situación:</b>\n",
    "\n",
    "Imagina que eres un analista de datos trabjando para una empresa ecommerce minorista que vende una variedad de productos online, que van desde equipos electrónicos y ropa hasta artículos para el hogar y accesorios. Tu tarea es analizar las transacciones de los clientes desde 2023 para identificar tendencias, comprender el comportamiento del cliente y optimizar la gestión de inventario.\n",
    "\n",
    "### 📍 <b>Objetivos:</b>\n",
    "\n",
    "- Comprender el comportamiento del cliente: Analizar la frecuencia de las compras, el valor promedio de las compras y los productos más populares.\n",
    "- Optimizar el inventario: Identificar productos con altas tasas de devolución para ajustar los niveles de inventario.\n",
    "- Mejorar las ventas y el marketing: Identificar segmentos de clientes que puedan ser objetivos de campañas de marketing para aumentar las ventas.\n",
    "- Opcional: utilizar algún modelo de ML para hacer segmentación de clientes, predicción de ventas, de Customer Churn u otras propuestas.\n",
    "\n",
    "### 💾 Descripción de los datos\n",
    "- TransactionID: Identificador único para cada transacción.\n",
    "- CustomerID: Identificador único para cada cliente.\n",
    "- TransactionDate: Fecha y hora de la transacción.\n",
    "- ProductID: Identificador único para cada producto.\n",
    "- ProductCategory: Categoría del producto (por ejemplo, Electrónica, Ropa, Artículos para el hogar).\n",
    "- Quantity: Número de unidades compradas.\n",
    "- Price: Precio por unidad del producto.\n",
    "- PaymentMethod: Método de pago (por ejemplo, Tarjeta de crédito, PayPal, Transferencia bancaria).\n",
    "- ReturnStatus: Indica si el artículo fue devuelto (Sí o No).\n",
    "- CustomerFeedback: Rating del 1 al 10 que representa la valoración del cliente.\n",
    "- DiscountApplied: Porcentaje de descuento que se ha aplicado sobre el producto.\n",
    "- ShippingCost: Coste del envío en euros."
   ]
  },
  {
   "cell_type": "markdown",
   "metadata": {},
   "source": [
    "Esta plantilla te guiará a través del proceso de análisis inicial y pre-procesado de los datos, pero es solo una guía! Puedes añadir o quitar lo que creas conveniente o analizar otros aspectos que te parezcan interesantes. Recuerda que hay muchas formas de llegar al mismo resultado, y lo que más se valora es la proactividad! 😃"
   ]
  },
  {
   "cell_type": "code",
   "execution_count": 1,
   "metadata": {},
   "outputs": [],
   "source": [
    "# Importar las librerías necesarias\n",
    "import pandas as pd\n",
    "import numpy as np\n",
    "import seaborn as sns\n",
    "import matplotlib.pyplot as plt\n",
    "from scipy.stats import zscore"
   ]
  },
  {
   "cell_type": "code",
   "execution_count": 2,
   "metadata": {},
   "outputs": [],
   "source": [
    "df_path = \"./data_eda/ecommerce_data.csv\"\n",
    "df_customers_path = \"./data_eda/ecommerce_customers.csv\"\n",
    "\n",
    "df = pd.read_csv(df_path)\n",
    "df_customers = pd.read_csv(df_customers_path)"
   ]
  },
  {
   "cell_type": "markdown",
   "metadata": {},
   "source": [
    "***"
   ]
  },
  {
   "cell_type": "markdown",
   "metadata": {},
   "source": [
    "# 1. Exploración Inicial\n",
    "El primer paso de cualquier análisis es realizar una exploración inicial de los datos. Entender qué tipo de información lleva cada columna, las unidades, los tipos de variables y tener una idea general de errores a gestionar en los siguientes pasos."
   ]
  },
  {
   "cell_type": "code",
   "execution_count": 3,
   "metadata": {},
   "outputs": [],
   "source": [
    "# Utiliza los métodos que conozcas para explorar el dataset\n",
    "# ¿Cuántas filas y columnas tiene?"
   ]
  },
  {
   "cell_type": "code",
   "execution_count": 4,
   "metadata": {},
   "outputs": [
    {
     "data": {
      "text/html": [
       "<div>\n",
       "<style scoped>\n",
       "    .dataframe tbody tr th:only-of-type {\n",
       "        vertical-align: middle;\n",
       "    }\n",
       "\n",
       "    .dataframe tbody tr th {\n",
       "        vertical-align: top;\n",
       "    }\n",
       "\n",
       "    .dataframe thead th {\n",
       "        text-align: right;\n",
       "    }\n",
       "</style>\n",
       "<table border=\"1\" class=\"dataframe\">\n",
       "  <thead>\n",
       "    <tr style=\"text-align: right;\">\n",
       "      <th></th>\n",
       "      <th>TransactionID</th>\n",
       "      <th>CustomerID</th>\n",
       "      <th>TransactionDate</th>\n",
       "      <th>ProductID</th>\n",
       "      <th>ProductCategory</th>\n",
       "      <th>Quantity</th>\n",
       "      <th>Price</th>\n",
       "      <th>PaymentMethod</th>\n",
       "      <th>ReturnStatus</th>\n",
       "      <th>CustomerFeedback</th>\n",
       "      <th>DiscountApplied</th>\n",
       "      <th>ShippingCost</th>\n",
       "    </tr>\n",
       "  </thead>\n",
       "  <tbody>\n",
       "    <tr>\n",
       "      <th>0</th>\n",
       "      <td>TXN100000</td>\n",
       "      <td>CUST1012</td>\n",
       "      <td>2023-06-05 11:11:00</td>\n",
       "      <td>PROD215</td>\n",
       "      <td>books</td>\n",
       "      <td>NaN</td>\n",
       "      <td>238.10</td>\n",
       "      <td>Credit Card</td>\n",
       "      <td>Yes</td>\n",
       "      <td>4.344676</td>\n",
       "      <td>15.04</td>\n",
       "      <td>47.16</td>\n",
       "    </tr>\n",
       "    <tr>\n",
       "      <th>1</th>\n",
       "      <td>TXN100001</td>\n",
       "      <td>CUST1125</td>\n",
       "      <td>2023-03-13 13:16:59</td>\n",
       "      <td>PROD300</td>\n",
       "      <td>Home Goods</td>\n",
       "      <td>10</td>\n",
       "      <td>480.70</td>\n",
       "      <td>Bank Transfer</td>\n",
       "      <td>Yes</td>\n",
       "      <td>6.534869</td>\n",
       "      <td>13.70</td>\n",
       "      <td>30.15</td>\n",
       "    </tr>\n",
       "    <tr>\n",
       "      <th>2</th>\n",
       "      <td>TXN100002</td>\n",
       "      <td>CUST1377</td>\n",
       "      <td>2023-11-17 19:39:50</td>\n",
       "      <td>PROD230</td>\n",
       "      <td>Electronics</td>\n",
       "      <td>3</td>\n",
       "      <td>361.89</td>\n",
       "      <td>Credit Card</td>\n",
       "      <td>No</td>\n",
       "      <td>8.076073</td>\n",
       "      <td>19.09</td>\n",
       "      <td>15.58</td>\n",
       "    </tr>\n",
       "    <tr>\n",
       "      <th>3</th>\n",
       "      <td>TXN100003</td>\n",
       "      <td>CUST1379</td>\n",
       "      <td>2023-01-03 14:41:06</td>\n",
       "      <td>PROD283</td>\n",
       "      <td>Books</td>\n",
       "      <td>two</td>\n",
       "      <td>9.69</td>\n",
       "      <td>NaN</td>\n",
       "      <td>Yes</td>\n",
       "      <td>4.855980</td>\n",
       "      <td>31.34</td>\n",
       "      <td>35.70</td>\n",
       "    </tr>\n",
       "    <tr>\n",
       "      <th>4</th>\n",
       "      <td>TXN100004</td>\n",
       "      <td>CUST1044</td>\n",
       "      <td>2023-05-21 21:42:03</td>\n",
       "      <td>PROD214</td>\n",
       "      <td>Home Goods</td>\n",
       "      <td>NaN</td>\n",
       "      <td>351.01</td>\n",
       "      <td>Credit Card</td>\n",
       "      <td>No</td>\n",
       "      <td>2.042956</td>\n",
       "      <td>39.82</td>\n",
       "      <td>4.04</td>\n",
       "    </tr>\n",
       "  </tbody>\n",
       "</table>\n",
       "</div>"
      ],
      "text/plain": [
       "  TransactionID CustomerID      TransactionDate ProductID ProductCategory  \\\n",
       "0     TXN100000   CUST1012  2023-06-05 11:11:00   PROD215           books   \n",
       "1     TXN100001   CUST1125  2023-03-13 13:16:59   PROD300      Home Goods   \n",
       "2     TXN100002   CUST1377  2023-11-17 19:39:50   PROD230     Electronics   \n",
       "3     TXN100003   CUST1379  2023-01-03 14:41:06   PROD283           Books   \n",
       "4     TXN100004   CUST1044  2023-05-21 21:42:03   PROD214      Home Goods   \n",
       "\n",
       "  Quantity   Price  PaymentMethod ReturnStatus  CustomerFeedback  \\\n",
       "0      NaN  238.10    Credit Card          Yes          4.344676   \n",
       "1       10  480.70  Bank Transfer          Yes          6.534869   \n",
       "2        3  361.89    Credit Card           No          8.076073   \n",
       "3      two    9.69            NaN          Yes          4.855980   \n",
       "4      NaN  351.01    Credit Card           No          2.042956   \n",
       "\n",
       "   DiscountApplied  ShippingCost  \n",
       "0            15.04         47.16  \n",
       "1            13.70         30.15  \n",
       "2            19.09         15.58  \n",
       "3            31.34         35.70  \n",
       "4            39.82          4.04  "
      ]
     },
     "execution_count": 4,
     "metadata": {},
     "output_type": "execute_result"
    }
   ],
   "source": [
    "df.head()"
   ]
  },
  {
   "cell_type": "markdown",
   "metadata": {},
   "source": [
    "##### Podemos usar tail también porque a veces las primeras filas del data set nos pueden dar información engañosa y así podemos ver el dataset de una forma un poco más completa."
   ]
  },
  {
   "cell_type": "code",
   "execution_count": 5,
   "metadata": {},
   "outputs": [
    {
     "data": {
      "text/html": [
       "<div>\n",
       "<style scoped>\n",
       "    .dataframe tbody tr th:only-of-type {\n",
       "        vertical-align: middle;\n",
       "    }\n",
       "\n",
       "    .dataframe tbody tr th {\n",
       "        vertical-align: top;\n",
       "    }\n",
       "\n",
       "    .dataframe thead th {\n",
       "        text-align: right;\n",
       "    }\n",
       "</style>\n",
       "<table border=\"1\" class=\"dataframe\">\n",
       "  <thead>\n",
       "    <tr style=\"text-align: right;\">\n",
       "      <th></th>\n",
       "      <th>TransactionID</th>\n",
       "      <th>CustomerID</th>\n",
       "      <th>TransactionDate</th>\n",
       "      <th>ProductID</th>\n",
       "      <th>ProductCategory</th>\n",
       "      <th>Quantity</th>\n",
       "      <th>Price</th>\n",
       "      <th>PaymentMethod</th>\n",
       "      <th>ReturnStatus</th>\n",
       "      <th>CustomerFeedback</th>\n",
       "      <th>DiscountApplied</th>\n",
       "      <th>ShippingCost</th>\n",
       "    </tr>\n",
       "  </thead>\n",
       "  <tbody>\n",
       "    <tr>\n",
       "      <th>5045</th>\n",
       "      <td>TXN103906</td>\n",
       "      <td>CUST1044</td>\n",
       "      <td>2023-11-21 11:49:00</td>\n",
       "      <td>PROD264</td>\n",
       "      <td>Electronics</td>\n",
       "      <td>NaN</td>\n",
       "      <td>141.83</td>\n",
       "      <td>Credit Card</td>\n",
       "      <td>Yes</td>\n",
       "      <td>1.473920</td>\n",
       "      <td>44.12</td>\n",
       "      <td>19.28</td>\n",
       "    </tr>\n",
       "    <tr>\n",
       "      <th>5046</th>\n",
       "      <td>TXN103773</td>\n",
       "      <td>CUST1395</td>\n",
       "      <td>2023-04-21 10:28:53</td>\n",
       "      <td>PROD215</td>\n",
       "      <td>Accessories</td>\n",
       "      <td>2</td>\n",
       "      <td>138.73</td>\n",
       "      <td>Bank Transfer</td>\n",
       "      <td>Yes</td>\n",
       "      <td>1.024862</td>\n",
       "      <td>5.56</td>\n",
       "      <td>8.62</td>\n",
       "    </tr>\n",
       "    <tr>\n",
       "      <th>5047</th>\n",
       "      <td>TXN104635</td>\n",
       "      <td>CUST1171</td>\n",
       "      <td>2023-09-21 19:44:33</td>\n",
       "      <td>PROD282</td>\n",
       "      <td>Home Goods</td>\n",
       "      <td>10</td>\n",
       "      <td>186.68</td>\n",
       "      <td>PayPal</td>\n",
       "      <td>No</td>\n",
       "      <td>8.129287</td>\n",
       "      <td>42.87</td>\n",
       "      <td>NaN</td>\n",
       "    </tr>\n",
       "    <tr>\n",
       "      <th>5048</th>\n",
       "      <td>TXN103161</td>\n",
       "      <td>CUST1075</td>\n",
       "      <td>2023-09-04 21:02:06</td>\n",
       "      <td>PROD218</td>\n",
       "      <td>Home Goods</td>\n",
       "      <td>2</td>\n",
       "      <td>468.29</td>\n",
       "      <td>Bank Transfer</td>\n",
       "      <td>Yes</td>\n",
       "      <td>7.007066</td>\n",
       "      <td>48.25</td>\n",
       "      <td>NaN</td>\n",
       "    </tr>\n",
       "    <tr>\n",
       "      <th>5049</th>\n",
       "      <td>TXN102659</td>\n",
       "      <td>CUST1028</td>\n",
       "      <td>2023-08-13 09:53:09</td>\n",
       "      <td>PROD245</td>\n",
       "      <td>Accessories</td>\n",
       "      <td>2</td>\n",
       "      <td>71.06</td>\n",
       "      <td>Credit Card</td>\n",
       "      <td>No</td>\n",
       "      <td>7.712480</td>\n",
       "      <td>45.91</td>\n",
       "      <td>9.12</td>\n",
       "    </tr>\n",
       "  </tbody>\n",
       "</table>\n",
       "</div>"
      ],
      "text/plain": [
       "     TransactionID CustomerID      TransactionDate ProductID ProductCategory  \\\n",
       "5045     TXN103906   CUST1044  2023-11-21 11:49:00   PROD264     Electronics   \n",
       "5046     TXN103773   CUST1395  2023-04-21 10:28:53   PROD215     Accessories   \n",
       "5047     TXN104635   CUST1171  2023-09-21 19:44:33   PROD282      Home Goods   \n",
       "5048     TXN103161   CUST1075  2023-09-04 21:02:06   PROD218      Home Goods   \n",
       "5049     TXN102659   CUST1028  2023-08-13 09:53:09   PROD245     Accessories   \n",
       "\n",
       "     Quantity   Price  PaymentMethod ReturnStatus  CustomerFeedback  \\\n",
       "5045      NaN  141.83    Credit Card          Yes          1.473920   \n",
       "5046        2  138.73  Bank Transfer          Yes          1.024862   \n",
       "5047       10  186.68         PayPal           No          8.129287   \n",
       "5048        2  468.29  Bank Transfer          Yes          7.007066   \n",
       "5049        2   71.06    Credit Card           No          7.712480   \n",
       "\n",
       "      DiscountApplied  ShippingCost  \n",
       "5045            44.12         19.28  \n",
       "5046             5.56          8.62  \n",
       "5047            42.87           NaN  \n",
       "5048            48.25           NaN  \n",
       "5049            45.91          9.12  "
      ]
     },
     "execution_count": 5,
     "metadata": {},
     "output_type": "execute_result"
    }
   ],
   "source": [
    "df.tail()"
   ]
  },
  {
   "cell_type": "markdown",
   "metadata": {},
   "source": [
    "##### Otro método que puede ser útil es usar sample porque lo que hace es darnos al azar algunas filas. En este caso, debemos especificar entre paréntesis cuantas filas de muestra queremos."
   ]
  },
  {
   "cell_type": "code",
   "execution_count": 6,
   "metadata": {},
   "outputs": [
    {
     "data": {
      "text/html": [
       "<div>\n",
       "<style scoped>\n",
       "    .dataframe tbody tr th:only-of-type {\n",
       "        vertical-align: middle;\n",
       "    }\n",
       "\n",
       "    .dataframe tbody tr th {\n",
       "        vertical-align: top;\n",
       "    }\n",
       "\n",
       "    .dataframe thead th {\n",
       "        text-align: right;\n",
       "    }\n",
       "</style>\n",
       "<table border=\"1\" class=\"dataframe\">\n",
       "  <thead>\n",
       "    <tr style=\"text-align: right;\">\n",
       "      <th></th>\n",
       "      <th>TransactionID</th>\n",
       "      <th>CustomerID</th>\n",
       "      <th>TransactionDate</th>\n",
       "      <th>ProductID</th>\n",
       "      <th>ProductCategory</th>\n",
       "      <th>Quantity</th>\n",
       "      <th>Price</th>\n",
       "      <th>PaymentMethod</th>\n",
       "      <th>ReturnStatus</th>\n",
       "      <th>CustomerFeedback</th>\n",
       "      <th>DiscountApplied</th>\n",
       "      <th>ShippingCost</th>\n",
       "    </tr>\n",
       "  </thead>\n",
       "  <tbody>\n",
       "    <tr>\n",
       "      <th>4672</th>\n",
       "      <td>TXN104672</td>\n",
       "      <td>CUST1075</td>\n",
       "      <td>2023-12-25 16:07:04</td>\n",
       "      <td>PROD235</td>\n",
       "      <td>Clothing</td>\n",
       "      <td>1</td>\n",
       "      <td>495.93</td>\n",
       "      <td>Bank Transfer</td>\n",
       "      <td>Yes</td>\n",
       "      <td>0.000000</td>\n",
       "      <td>31.77</td>\n",
       "      <td>31.81</td>\n",
       "    </tr>\n",
       "    <tr>\n",
       "      <th>798</th>\n",
       "      <td>TXN100798</td>\n",
       "      <td>CUST1219</td>\n",
       "      <td>2023-12-19 02:25:23</td>\n",
       "      <td>PROD246</td>\n",
       "      <td>Clothing</td>\n",
       "      <td>2</td>\n",
       "      <td>139.93</td>\n",
       "      <td>Credit Card</td>\n",
       "      <td>No</td>\n",
       "      <td>4.229835</td>\n",
       "      <td>38.98</td>\n",
       "      <td>10.95</td>\n",
       "    </tr>\n",
       "    <tr>\n",
       "      <th>4810</th>\n",
       "      <td>TXN104810</td>\n",
       "      <td>CUST1137</td>\n",
       "      <td>2023-10-24 23:51:19</td>\n",
       "      <td>PROD266</td>\n",
       "      <td>Clothing</td>\n",
       "      <td>2</td>\n",
       "      <td>497.01</td>\n",
       "      <td>NaN</td>\n",
       "      <td>Yes</td>\n",
       "      <td>6.645090</td>\n",
       "      <td>18.11</td>\n",
       "      <td>24.37</td>\n",
       "    </tr>\n",
       "    <tr>\n",
       "      <th>3065</th>\n",
       "      <td>TXN103065</td>\n",
       "      <td>CUST1320</td>\n",
       "      <td>2023-07-16 11:43:30</td>\n",
       "      <td>PROD203</td>\n",
       "      <td>Clothing</td>\n",
       "      <td>4</td>\n",
       "      <td>119.41</td>\n",
       "      <td>Bank Transfer</td>\n",
       "      <td>No</td>\n",
       "      <td>6.223353</td>\n",
       "      <td>37.20</td>\n",
       "      <td>35.23</td>\n",
       "    </tr>\n",
       "    <tr>\n",
       "      <th>2764</th>\n",
       "      <td>TXN102764</td>\n",
       "      <td>CUST1178</td>\n",
       "      <td>2023-01-29 15:35:20</td>\n",
       "      <td>PROD269</td>\n",
       "      <td>Home Goods</td>\n",
       "      <td>2</td>\n",
       "      <td>216.11</td>\n",
       "      <td>Bank Transfer</td>\n",
       "      <td>No</td>\n",
       "      <td>2.175393</td>\n",
       "      <td>3.59</td>\n",
       "      <td>7.30</td>\n",
       "    </tr>\n",
       "  </tbody>\n",
       "</table>\n",
       "</div>"
      ],
      "text/plain": [
       "     TransactionID CustomerID      TransactionDate ProductID ProductCategory  \\\n",
       "4672     TXN104672   CUST1075  2023-12-25 16:07:04   PROD235        Clothing   \n",
       "798      TXN100798   CUST1219  2023-12-19 02:25:23   PROD246        Clothing   \n",
       "4810     TXN104810   CUST1137  2023-10-24 23:51:19   PROD266        Clothing   \n",
       "3065     TXN103065   CUST1320  2023-07-16 11:43:30   PROD203        Clothing   \n",
       "2764     TXN102764   CUST1178  2023-01-29 15:35:20   PROD269      Home Goods   \n",
       "\n",
       "     Quantity   Price  PaymentMethod ReturnStatus  CustomerFeedback  \\\n",
       "4672        1  495.93  Bank Transfer          Yes          0.000000   \n",
       "798         2  139.93    Credit Card           No          4.229835   \n",
       "4810        2  497.01            NaN          Yes          6.645090   \n",
       "3065        4  119.41  Bank Transfer           No          6.223353   \n",
       "2764        2  216.11  Bank Transfer           No          2.175393   \n",
       "\n",
       "      DiscountApplied  ShippingCost  \n",
       "4672            31.77         31.81  \n",
       "798             38.98         10.95  \n",
       "4810            18.11         24.37  \n",
       "3065            37.20         35.23  \n",
       "2764             3.59          7.30  "
      ]
     },
     "execution_count": 6,
     "metadata": {},
     "output_type": "execute_result"
    }
   ],
   "source": [
    "# Coge filas aleatorias para ver de primeras algún error, hay que especificar número\n",
    "df.sample(5) "
   ]
  },
  {
   "cell_type": "markdown",
   "metadata": {},
   "source": [
    "##### Usar df.shape es un atributo que nos da la oportunidad de ver lo grande que es nuestro dataset."
   ]
  },
  {
   "cell_type": "code",
   "execution_count": 7,
   "metadata": {},
   "outputs": [
    {
     "data": {
      "text/plain": [
       "(5050, 12)"
      ]
     },
     "execution_count": 7,
     "metadata": {},
     "output_type": "execute_result"
    }
   ],
   "source": [
    "df.shape"
   ]
  },
  {
   "cell_type": "markdown",
   "metadata": {},
   "source": [
    "##### El df.info es uno de los métodos más últiles que tenemos porque también nos da el tamaño total de nuestro dataset, pero también podemos ver si tenemos números nulos o de qué tipo son los datos que tenemos."
   ]
  },
  {
   "cell_type": "code",
   "execution_count": 8,
   "metadata": {},
   "outputs": [
    {
     "name": "stdout",
     "output_type": "stream",
     "text": [
      "<class 'pandas.core.frame.DataFrame'>\n",
      "RangeIndex: 5050 entries, 0 to 5049\n",
      "Data columns (total 12 columns):\n",
      " #   Column            Non-Null Count  Dtype  \n",
      "---  ------            --------------  -----  \n",
      " 0   TransactionID     5050 non-null   object \n",
      " 1   CustomerID        4802 non-null   object \n",
      " 2   TransactionDate   5050 non-null   object \n",
      " 3   ProductID         4959 non-null   object \n",
      " 4   ProductCategory   5050 non-null   object \n",
      " 5   Quantity          4432 non-null   object \n",
      " 6   Price             4995 non-null   float64\n",
      " 7   PaymentMethod     3720 non-null   object \n",
      " 8   ReturnStatus      5050 non-null   object \n",
      " 9   CustomerFeedback  5050 non-null   float64\n",
      " 10  DiscountApplied   4500 non-null   float64\n",
      " 11  ShippingCost      4795 non-null   float64\n",
      "dtypes: float64(4), object(8)\n",
      "memory usage: 473.6+ KB\n"
     ]
    }
   ],
   "source": [
    "df.info()"
   ]
  },
  {
   "cell_type": "markdown",
   "metadata": {},
   "source": [
    "💡 Los tipos de variables más comunes que nos podemos encontrar:\n",
    "- int64: valores enteros\n",
    "- float64: valores decimales\n",
    "- object: tipo de datos flexible que representa strings o tipos de datos mixtos (ej. alfanumérico)\n",
    "- datetime64[ns]: fechas y horas\n",
    "- bool: datos binarios (True/False)"
   ]
  },
  {
   "cell_type": "markdown",
   "metadata": {},
   "source": [
    "¿Qué conclusiones sacas después de este análisis inicial?\n",
    "\n",
    "\n",
    "\n",
    "***"
   ]
  },
  {
   "cell_type": "markdown",
   "metadata": {},
   "source": [
    "##### Algunos cambios para hacer: \n",
    "\n",
    "- TransactionID es un object porque tiene letras y números aunque normalmente sean números. \n",
    "- En Customer ID pasa lo mismo, es un object.\n",
    "- Transaction date al ser una fecha lo mismo.\n",
    "- Quantity debería de ser un entero, pero nos lo pone como object.\n",
    "\n",
    "##### Conclusiones:\n",
    "- Gestionar nulls.\n",
    "- Cambiar tipo de datos de Quantity y de TransactionDate."
   ]
  },
  {
   "cell_type": "markdown",
   "metadata": {},
   "source": [
    "Analizamos y visualizamos los datos numéricos:"
   ]
  },
  {
   "cell_type": "code",
   "execution_count": 9,
   "metadata": {},
   "outputs": [
    {
     "data": {
      "text/html": [
       "<div>\n",
       "<style scoped>\n",
       "    .dataframe tbody tr th:only-of-type {\n",
       "        vertical-align: middle;\n",
       "    }\n",
       "\n",
       "    .dataframe tbody tr th {\n",
       "        vertical-align: top;\n",
       "    }\n",
       "\n",
       "    .dataframe thead th {\n",
       "        text-align: right;\n",
       "    }\n",
       "</style>\n",
       "<table border=\"1\" class=\"dataframe\">\n",
       "  <thead>\n",
       "    <tr style=\"text-align: right;\">\n",
       "      <th></th>\n",
       "      <th>count</th>\n",
       "      <th>mean</th>\n",
       "      <th>std</th>\n",
       "      <th>min</th>\n",
       "      <th>25%</th>\n",
       "      <th>50%</th>\n",
       "      <th>75%</th>\n",
       "      <th>max</th>\n",
       "    </tr>\n",
       "  </thead>\n",
       "  <tbody>\n",
       "    <tr>\n",
       "      <th>Price</th>\n",
       "      <td>4995.0</td>\n",
       "      <td>252.509037</td>\n",
       "      <td>141.454788</td>\n",
       "      <td>5.13</td>\n",
       "      <td>132.965000</td>\n",
       "      <td>249.040000</td>\n",
       "      <td>374.325000</td>\n",
       "      <td>499.910000</td>\n",
       "    </tr>\n",
       "    <tr>\n",
       "      <th>CustomerFeedback</th>\n",
       "      <td>5050.0</td>\n",
       "      <td>4.772651</td>\n",
       "      <td>1.803308</td>\n",
       "      <td>0.00</td>\n",
       "      <td>3.796587</td>\n",
       "      <td>4.768703</td>\n",
       "      <td>5.751396</td>\n",
       "      <td>8.704556</td>\n",
       "    </tr>\n",
       "    <tr>\n",
       "      <th>DiscountApplied</th>\n",
       "      <td>4500.0</td>\n",
       "      <td>25.243578</td>\n",
       "      <td>14.500435</td>\n",
       "      <td>0.01</td>\n",
       "      <td>12.677500</td>\n",
       "      <td>25.225000</td>\n",
       "      <td>37.852500</td>\n",
       "      <td>49.990000</td>\n",
       "    </tr>\n",
       "    <tr>\n",
       "      <th>ShippingCost</th>\n",
       "      <td>4795.0</td>\n",
       "      <td>24.808847</td>\n",
       "      <td>14.549380</td>\n",
       "      <td>0.01</td>\n",
       "      <td>11.925000</td>\n",
       "      <td>24.640000</td>\n",
       "      <td>37.680000</td>\n",
       "      <td>49.990000</td>\n",
       "    </tr>\n",
       "  </tbody>\n",
       "</table>\n",
       "</div>"
      ],
      "text/plain": [
       "                   count        mean         std   min         25%  \\\n",
       "Price             4995.0  252.509037  141.454788  5.13  132.965000   \n",
       "CustomerFeedback  5050.0    4.772651    1.803308  0.00    3.796587   \n",
       "DiscountApplied   4500.0   25.243578   14.500435  0.01   12.677500   \n",
       "ShippingCost      4795.0   24.808847   14.549380  0.01   11.925000   \n",
       "\n",
       "                         50%         75%         max  \n",
       "Price             249.040000  374.325000  499.910000  \n",
       "CustomerFeedback    4.768703    5.751396    8.704556  \n",
       "DiscountApplied    25.225000   37.852500   49.990000  \n",
       "ShippingCost       24.640000   37.680000   49.990000  "
      ]
     },
     "execution_count": 9,
     "metadata": {},
     "output_type": "execute_result"
    }
   ],
   "source": [
    "# Realiza un análisis de las variables numéricas por un lado y las categóricas por otro, obteniendo métricas como\n",
    "# count de filas, media, min y max, valores diferentes, etc\n",
    "\n",
    "df.describe().T"
   ]
  },
  {
   "cell_type": "markdown",
   "metadata": {},
   "source": [
    "Simplemente con el método describe puede ser bastante difícil analizar los datos con los que contamos. Por eso es mejor visualizar los datos."
   ]
  },
  {
   "cell_type": "code",
   "execution_count": 10,
   "metadata": {},
   "outputs": [
    {
     "data": {
      "text/plain": [
       "<Axes: xlabel='Price'>"
      ]
     },
     "execution_count": 10,
     "metadata": {},
     "output_type": "execute_result"
    },
    {
     "data": {
      "image/png": "[encoded data removed]",
      "text/plain": [
       "<Figure size 640x480 with 1 Axes>"
      ]
     },
     "metadata": {},
     "output_type": "display_data"
    }
   ],
   "source": [
    "# Visualizar los datos\n",
    "sns.boxplot(data=df, x='Price')"
   ]
  },
  {
   "cell_type": "code",
   "execution_count": 11,
   "metadata": {},
   "outputs": [
    {
     "data": {
      "text/plain": [
       "<Axes: xlabel='CustomerFeedback'>"
      ]
     },
     "execution_count": 11,
     "metadata": {},
     "output_type": "execute_result"
    },
    {
     "data": {
      "image/png": "[encoded data removed]",
      "text/plain": [
       "<Figure size 640x480 with 1 Axes>"
      ]
     },
     "metadata": {},
     "output_type": "display_data"
    }
   ],
   "source": [
    "sns.boxplot(data=df, x='CustomerFeedback')"
   ]
  },
  {
   "cell_type": "markdown",
   "metadata": {},
   "source": [
    "Lo que en boxplot aparecen como círculos pueden ser outliers, así que tendríamos que vigilarlos. En el caso de CustomerFeedback tenemos variables fuera de la gráfica."
   ]
  },
  {
   "cell_type": "code",
   "execution_count": 12,
   "metadata": {},
   "outputs": [
    {
     "data": {
      "text/plain": [
       "<Axes: xlabel='CustomerFeedback', ylabel='Count'>"
      ]
     },
     "execution_count": 12,
     "metadata": {},
     "output_type": "execute_result"
    },
    {
     "data": {
      "image/png": "[encoded data removed]",
      "text/plain": [
       "<Figure size 640x480 with 1 Axes>"
      ]
     },
     "metadata": {},
     "output_type": "display_data"
    }
   ],
   "source": [
    "sns.histplot(data=df, x='CustomerFeedback')"
   ]
  },
  {
   "cell_type": "markdown",
   "metadata": {},
   "source": [
    "En el caso de CustomerFeedback vemos que tiene una distribución más o menos por el medio y si nos vamos a Price parece que es una distribución uniforme."
   ]
  },
  {
   "cell_type": "code",
   "execution_count": 13,
   "metadata": {},
   "outputs": [
    {
     "data": {
      "text/plain": [
       "<Axes: xlabel='Price', ylabel='Count'>"
      ]
     },
     "execution_count": 13,
     "metadata": {},
     "output_type": "execute_result"
    },
    {
     "data": {
      "image/png": "[encoded data removed]",
      "text/plain": [
       "<Figure size 640x480 with 1 Axes>"
      ]
     },
     "metadata": {},
     "output_type": "display_data"
    }
   ],
   "source": [
    "sns.histplot(data=df, x='Price')"
   ]
  },
  {
   "cell_type": "markdown",
   "metadata": {},
   "source": [
    "En este análisis inicial también analizamos las variables categóricas. El método .describe() nos permite también incluir otros datos como los objetos."
   ]
  },
  {
   "cell_type": "code",
   "execution_count": 14,
   "metadata": {},
   "outputs": [
    {
     "data": {
      "text/html": [
       "<div>\n",
       "<style scoped>\n",
       "    .dataframe tbody tr th:only-of-type {\n",
       "        vertical-align: middle;\n",
       "    }\n",
       "\n",
       "    .dataframe tbody tr th {\n",
       "        vertical-align: top;\n",
       "    }\n",
       "\n",
       "    .dataframe thead th {\n",
       "        text-align: right;\n",
       "    }\n",
       "</style>\n",
       "<table border=\"1\" class=\"dataframe\">\n",
       "  <thead>\n",
       "    <tr style=\"text-align: right;\">\n",
       "      <th></th>\n",
       "      <th>TransactionID</th>\n",
       "      <th>CustomerID</th>\n",
       "      <th>TransactionDate</th>\n",
       "      <th>ProductID</th>\n",
       "      <th>ProductCategory</th>\n",
       "      <th>Quantity</th>\n",
       "      <th>PaymentMethod</th>\n",
       "      <th>ReturnStatus</th>\n",
       "    </tr>\n",
       "  </thead>\n",
       "  <tbody>\n",
       "    <tr>\n",
       "      <th>count</th>\n",
       "      <td>5050</td>\n",
       "      <td>4802</td>\n",
       "      <td>5050</td>\n",
       "      <td>4959</td>\n",
       "      <td>5050</td>\n",
       "      <td>4432</td>\n",
       "      <td>3720</td>\n",
       "      <td>5050</td>\n",
       "    </tr>\n",
       "    <tr>\n",
       "      <th>unique</th>\n",
       "      <td>5000</td>\n",
       "      <td>501</td>\n",
       "      <td>4999</td>\n",
       "      <td>101</td>\n",
       "      <td>6</td>\n",
       "      <td>7</td>\n",
       "      <td>3</td>\n",
       "      <td>2</td>\n",
       "    </tr>\n",
       "    <tr>\n",
       "      <th>top</th>\n",
       "      <td>TXN102515</td>\n",
       "      <td>CUST1276</td>\n",
       "      <td>2023-10-27 02:00:59</td>\n",
       "      <td>PROD287</td>\n",
       "      <td>Electronics</td>\n",
       "      <td>two</td>\n",
       "      <td>Credit Card</td>\n",
       "      <td>No</td>\n",
       "    </tr>\n",
       "    <tr>\n",
       "      <th>freq</th>\n",
       "      <td>2</td>\n",
       "      <td>20</td>\n",
       "      <td>2</td>\n",
       "      <td>67</td>\n",
       "      <td>877</td>\n",
       "      <td>685</td>\n",
       "      <td>1301</td>\n",
       "      <td>2560</td>\n",
       "    </tr>\n",
       "  </tbody>\n",
       "</table>\n",
       "</div>"
      ],
      "text/plain": [
       "       TransactionID CustomerID      TransactionDate ProductID  \\\n",
       "count           5050       4802                 5050      4959   \n",
       "unique          5000        501                 4999       101   \n",
       "top        TXN102515   CUST1276  2023-10-27 02:00:59   PROD287   \n",
       "freq               2         20                    2        67   \n",
       "\n",
       "       ProductCategory Quantity PaymentMethod ReturnStatus  \n",
       "count             5050     4432          3720         5050  \n",
       "unique               6        7             3            2  \n",
       "top        Electronics      two   Credit Card           No  \n",
       "freq               877      685          1301         2560  "
      ]
     },
     "execution_count": 14,
     "metadata": {},
     "output_type": "execute_result"
    }
   ],
   "source": [
    "# Variables categóricas\n",
    "df.describe(include='object')"
   ]
  },
  {
   "cell_type": "code",
   "execution_count": 15,
   "metadata": {},
   "outputs": [
    {
     "name": "stdout",
     "output_type": "stream",
     "text": [
      "ProductCategory : ['books' 'Home Goods' 'Electronics' 'Books' 'Clothing' 'Accessories'] \n",
      "\n",
      "Quantity : [nan '10' '3' 'two' '1' '4' '5' '2'] \n",
      "\n",
      "PaymentMethod : ['Credit Card' 'Bank Transfer' nan 'PayPal'] \n",
      "\n",
      "ReturnStatus : ['Yes' 'No'] \n",
      "\n"
     ]
    }
   ],
   "source": [
    "# Creamos una nueva variable para analizar los datos que nos interesan\n",
    "columns_to_explore = ['ProductCategory', 'Quantity', 'PaymentMethod', 'ReturnStatus']\n",
    "# Sacamos los datos unique y hacemos un bucle\n",
    "\n",
    "for column in columns_to_explore:\n",
    "    print(column,  \":\" ,df[column].unique(), \"\\n\")\n"
   ]
  },
  {
   "cell_type": "markdown",
   "metadata": {},
   "source": [
    "Conclusiones:\n",
    "- ProductCategory: con categorías iguales\n",
    "- Quantity: gestionar nulls, strings y \"two\"\n",
    "- PaymentMethod: nulls"
   ]
  },
  {
   "cell_type": "markdown",
   "metadata": {},
   "source": [
    "## 2. Transformaciones y ajustes de variables\n",
    "### 2.1 Gestión de nulos y campos vacíos\n",
    "Lo primero a gestionar son los nulos, ya que tenerlos en nuestros datos nos impedirá hacer otras transformaciones."
   ]
  },
  {
   "cell_type": "code",
   "execution_count": 16,
   "metadata": {},
   "outputs": [
    {
     "data": {
      "text/plain": [
       "TransactionID          0\n",
       "CustomerID           248\n",
       "TransactionDate        0\n",
       "ProductID             91\n",
       "ProductCategory        0\n",
       "Quantity             618\n",
       "Price                 55\n",
       "PaymentMethod       1330\n",
       "ReturnStatus           0\n",
       "CustomerFeedback       0\n",
       "DiscountApplied      550\n",
       "ShippingCost         255\n",
       "dtype: int64"
      ]
     },
     "execution_count": 16,
     "metadata": {},
     "output_type": "execute_result"
    }
   ],
   "source": [
    "# ¿Cuántos nulls hay por cada columna? ¿qué porcentaje del total representan?\n",
    "df.isnull().sum()"
   ]
  },
  {
   "cell_type": "markdown",
   "metadata": {},
   "source": [
    "Nos dice el número de filas que son null en cada columna, pero para saber si tenemos mucho en base al número de filas totales lo mejor es sacar porcentajes."
   ]
  },
  {
   "cell_type": "code",
   "execution_count": 17,
   "metadata": {},
   "outputs": [
    {
     "name": "stdout",
     "output_type": "stream",
     "text": [
      "TransactionID        0.00\n",
      "CustomerID           4.91\n",
      "TransactionDate      0.00\n",
      "ProductID            1.80\n",
      "ProductCategory      0.00\n",
      "Quantity            12.24\n",
      "Price                1.09\n",
      "PaymentMethod       26.34\n",
      "ReturnStatus         0.00\n",
      "CustomerFeedback     0.00\n",
      "DiscountApplied     10.89\n",
      "ShippingCost         5.05\n",
      "dtype: float64\n"
     ]
    }
   ],
   "source": [
    "num_nulls = df.isnull().sum()\n",
    "percent_nulls = (num_nulls / len(df)) * 100\n",
    "\n",
    "print(percent_nulls.round(2))"
   ]
  },
  {
   "cell_type": "markdown",
   "metadata": {},
   "source": [
    "Una cosa antes de avanzar en el análisis es crear un nuevo dataframe para no perder datos."
   ]
  },
  {
   "cell_type": "code",
   "execution_count": 18,
   "metadata": {},
   "outputs": [],
   "source": [
    "df_no_nulls = df.copy()"
   ]
  },
  {
   "cell_type": "code",
   "execution_count": 19,
   "metadata": {},
   "outputs": [],
   "source": [
    "# ¿Qué estrategias se pueden seguir para gestionar los nulls?\n",
    "# Implementa la que consideres apropiada para cada variable con nulls"
   ]
  },
  {
   "cell_type": "code",
   "execution_count": 20,
   "metadata": {},
   "outputs": [
    {
     "data": {
      "text/plain": [
       "0    CUST1012\n",
       "1    CUST1125\n",
       "2    CUST1377\n",
       "3    CUST1379\n",
       "4    CUST1044\n",
       "Name: CustomerID, dtype: object"
      ]
     },
     "execution_count": 20,
     "metadata": {},
     "output_type": "execute_result"
    }
   ],
   "source": [
    "df_no_nulls['CustomerID'].head()"
   ]
  },
  {
   "cell_type": "code",
   "execution_count": 21,
   "metadata": {},
   "outputs": [],
   "source": [
    "df_no_nulls['CustomerID'] = df_no_nulls['CustomerID'].fillna('Unknown')"
   ]
  },
  {
   "cell_type": "code",
   "execution_count": 22,
   "metadata": {},
   "outputs": [
    {
     "data": {
      "text/plain": [
       "array(['Credit Card', 'Bank Transfer', nan, 'PayPal'], dtype=object)"
      ]
     },
     "execution_count": 22,
     "metadata": {},
     "output_type": "execute_result"
    }
   ],
   "source": [
    "df_no_nulls['PaymentMethod'].unique()"
   ]
  },
  {
   "cell_type": "markdown",
   "metadata": {},
   "source": [
    "En el caso de PaymentMethod lo que puede haber pasado es que algún dato se haya quedado sin registrar o que haya algún otro método de pago no contemplado como Bizum, por ejemplo. Lo primero sería ir al equipo de negocio para averiguarlo. Si no hay otro método de pago lo que podríamos hacer es rellenar esas filas con el método de pago más común. Es decir, usando la moda."
   ]
  },
  {
   "cell_type": "code",
   "execution_count": 23,
   "metadata": {},
   "outputs": [
    {
     "data": {
      "text/plain": [
       "0    Credit Card\n",
       "Name: PaymentMethod, dtype: object"
      ]
     },
     "execution_count": 23,
     "metadata": {},
     "output_type": "execute_result"
    }
   ],
   "source": [
    "df_no_nulls['PaymentMethod'].mode()"
   ]
  },
  {
   "cell_type": "markdown",
   "metadata": {},
   "source": [
    "Hay que tener bastante cuidado porque cuando vemos el resultado del valor más usado vemos que nos aparece una serie con su índice 0. Para poder usar el valor necesitamos usar 0."
   ]
  },
  {
   "cell_type": "code",
   "execution_count": 24,
   "metadata": {},
   "outputs": [
    {
     "data": {
      "text/plain": [
       "'Credit Card'"
      ]
     },
     "execution_count": 24,
     "metadata": {},
     "output_type": "execute_result"
    }
   ],
   "source": [
    "df_no_nulls['PaymentMethod'].mode()[0]"
   ]
  },
  {
   "cell_type": "code",
   "execution_count": 25,
   "metadata": {},
   "outputs": [],
   "source": [
    "# Rellenamos el PaymentMethod con la moda\n",
    "df_no_nulls['PaymentMethod'] = df_no_nulls['PaymentMethod'].fillna(df_no_nulls['PaymentMethod'].mode()[0])\n"
   ]
  },
  {
   "cell_type": "markdown",
   "metadata": {},
   "source": [
    "### 2.2 Ajuste de los tipos de variables\n",
    "Para poder trabajar correctamente con los datos, hace falta transformar las variables al tipo de datos correcto. "
   ]
  },
  {
   "cell_type": "markdown",
   "metadata": {},
   "source": [
    "Para Quantity:\n",
    "\n",
    "- Reemplazar 'two'\n",
    "- Convertir los valores de tipo string a tipo numérico\n",
    "- Trabajar con los nulls, para eso sería útil en este caso usar el método .value_counts() para ver para cada valor cuantos valores hay. Para elegir la moda, la mediana... depende siempre mucho del contexto y de la variable que estemos tratando."
   ]
  },
  {
   "cell_type": "markdown",
   "metadata": {},
   "source": [
    "Para cambiar el método general podemos hacer el básico que es pandas.Series.astype. Pero hay métodos más específicos:\n",
    "\n",
    "- Cuando tenemos 'strings' que son múmeros y los queremos convertir a numéricos lo que mejor funciona es pd.to.numeric().\n",
    "- Otra transformación es el de las fechas que sería pd.to_datetime().\n",
    "\n",
    "Después de cualquier conversión es importante validar. "
   ]
  },
  {
   "cell_type": "code",
   "execution_count": 26,
   "metadata": {},
   "outputs": [
    {
     "data": {
      "text/plain": [
       "array([nan, '10', '3', 'two', '1', '4', '5', '2'], dtype=object)"
      ]
     },
     "execution_count": 26,
     "metadata": {},
     "output_type": "execute_result"
    }
   ],
   "source": [
    "df_no_nulls['Quantity'].unique()"
   ]
  },
  {
   "cell_type": "code",
   "execution_count": 27,
   "metadata": {},
   "outputs": [],
   "source": [
    "# 1. Reemplazamos el 'two' por un 2\n",
    "df_no_nulls['Quantity'] = df_no_nulls['Quantity'].replace(\"two\", 2)\n",
    "\n",
    "# 2. Convertir a valores numéricos\n",
    "df_no_nulls['Quantity'] = pd.to_numeric(df_no_nulls['Quantity'], errors='coerce')"
   ]
  },
  {
   "cell_type": "code",
   "execution_count": 28,
   "metadata": {},
   "outputs": [
    {
     "data": {
      "text/plain": [
       "array([nan, 10.,  3.,  2.,  1.,  4.,  5.])"
      ]
     },
     "execution_count": 28,
     "metadata": {},
     "output_type": "execute_result"
    }
   ],
   "source": [
    "df_no_nulls['Quantity'].unique()"
   ]
  },
  {
   "cell_type": "code",
   "execution_count": 29,
   "metadata": {},
   "outputs": [
    {
     "data": {
      "text/plain": [
       "numpy.float64"
      ]
     },
     "execution_count": 29,
     "metadata": {},
     "output_type": "execute_result"
    }
   ],
   "source": [
    "type(df_no_nulls['Quantity'][0])"
   ]
  },
  {
   "cell_type": "code",
   "execution_count": 30,
   "metadata": {},
   "outputs": [
    {
     "data": {
      "text/plain": [
       "Quantity\n",
       "2.0     1315\n",
       "4.0      634\n",
       "10.0     632\n",
       "5.0      632\n",
       "3.0      610\n",
       "1.0      609\n",
       "Name: count, dtype: int64"
      ]
     },
     "execution_count": 30,
     "metadata": {},
     "output_type": "execute_result"
    }
   ],
   "source": [
    "df_no_nulls['Quantity'].value_counts()"
   ]
  },
  {
   "cell_type": "code",
   "execution_count": 31,
   "metadata": {},
   "outputs": [
    {
     "data": {
      "text/plain": [
       "3.854918772563177"
      ]
     },
     "execution_count": 31,
     "metadata": {},
     "output_type": "execute_result"
    }
   ],
   "source": [
    "df_no_nulls['Quantity'].mean()"
   ]
  },
  {
   "cell_type": "code",
   "execution_count": 32,
   "metadata": {},
   "outputs": [
    {
     "data": {
      "text/plain": [
       "3.0"
      ]
     },
     "execution_count": 32,
     "metadata": {},
     "output_type": "execute_result"
    }
   ],
   "source": [
    "# Como el Quantity es un número entero tendría más sentido rellenarlo con la media\n",
    "df_no_nulls['Quantity'].median()"
   ]
  },
  {
   "cell_type": "code",
   "execution_count": 33,
   "metadata": {},
   "outputs": [],
   "source": [
    "# 3. Rellenar nulls de quantity\n",
    "df_no_nulls['Quantity'] = df_no_nulls['Quantity'].fillna(3)"
   ]
  },
  {
   "cell_type": "code",
   "execution_count": 34,
   "metadata": {},
   "outputs": [],
   "source": [
    "# Transformar la variable a un número entero (integer)\n",
    "df_no_nulls['Quantity'] = df_no_nulls['Quantity'].astype(int)"
   ]
  },
  {
   "cell_type": "code",
   "execution_count": 35,
   "metadata": {},
   "outputs": [
    {
     "name": "stdout",
     "output_type": "stream",
     "text": [
      "<class 'pandas.core.frame.DataFrame'>\n",
      "RangeIndex: 5050 entries, 0 to 5049\n",
      "Data columns (total 12 columns):\n",
      " #   Column            Non-Null Count  Dtype  \n",
      "---  ------            --------------  -----  \n",
      " 0   TransactionID     5050 non-null   object \n",
      " 1   CustomerID        5050 non-null   object \n",
      " 2   TransactionDate   5050 non-null   object \n",
      " 3   ProductID         4959 non-null   object \n",
      " 4   ProductCategory   5050 non-null   object \n",
      " 5   Quantity          5050 non-null   int64  \n",
      " 6   Price             4995 non-null   float64\n",
      " 7   PaymentMethod     5050 non-null   object \n",
      " 8   ReturnStatus      5050 non-null   object \n",
      " 9   CustomerFeedback  5050 non-null   float64\n",
      " 10  DiscountApplied   4500 non-null   float64\n",
      " 11  ShippingCost      4795 non-null   float64\n",
      "dtypes: float64(4), int64(1), object(7)\n",
      "memory usage: 473.6+ KB\n"
     ]
    }
   ],
   "source": [
    "df_no_nulls.info()"
   ]
  },
  {
   "cell_type": "code",
   "execution_count": 36,
   "metadata": {},
   "outputs": [],
   "source": [
    "df_no_nulls['TransactionDate'] = pd.to_datetime(df_no_nulls['TransactionDate'], errors='coerce')"
   ]
  },
  {
   "cell_type": "code",
   "execution_count": 37,
   "metadata": {},
   "outputs": [],
   "source": [
    "# ¿Qué variables no tienen el tipo de dato correcto?\n",
    "# Implementa aquí el código para hacer el ajuste"
   ]
  },
  {
   "cell_type": "markdown",
   "metadata": {},
   "source": [
    "### 2.3 Gestión de outliers\n",
    "Los outliers pueden afectar en gran medida a nuestros análisis, es por eso por lo que es muy importante detectarlos y gestionarlos."
   ]
  },
  {
   "cell_type": "code",
   "execution_count": 46,
   "metadata": {},
   "outputs": [],
   "source": [
    "df_no_outliers = df_no_nulls.copy()"
   ]
  },
  {
   "cell_type": "code",
   "execution_count": 48,
   "metadata": {},
   "outputs": [
    {
     "data": {
      "text/plain": [
       "<Axes: xlabel='CustomerFeedback'>"
      ]
     },
     "execution_count": 48,
     "metadata": {},
     "output_type": "execute_result"
    },
    {
     "data": {
      "image/png": "[encoded data removed]",
      "text/plain": [
       "<Figure size 640x480 with 1 Axes>"
      ]
     },
     "metadata": {},
     "output_type": "display_data"
    }
   ],
   "source": [
    "# Analiza las variables numéricas para detectar outliers. \n",
    "# ¿Cómo? A través de inspección visual, utilizando métodos estadísticos como el Z Score o el IQR, etc\n",
    "sns.boxplot(data=df_no_outliers, x='CustomerFeedback')"
   ]
  },
  {
   "cell_type": "markdown",
   "metadata": {},
   "source": [
    "Variables numéricas a gestionar: Quantity y CustomerFeedback"
   ]
  },
  {
   "cell_type": "code",
   "execution_count": 54,
   "metadata": {},
   "outputs": [
    {
     "data": {
      "text/plain": [
       "CustomerFeedback\n",
       "8.704556    45\n",
       "0.000000    42\n",
       "Name: count, dtype: int64"
      ]
     },
     "execution_count": 54,
     "metadata": {},
     "output_type": "execute_result"
    }
   ],
   "source": [
    "# Gestiona estos outliers\n",
    "# CustomerFeedback\n",
    "\n",
    "Q1 = df_no_outliers['CustomerFeedback'].quantile(0.25)\n",
    "Q3 = df_no_outliers['CustomerFeedback'].quantile(0.75)\n",
    "IQR = Q3 - Q1\n",
    "\n",
    "outliers_CF = df_no_outliers[(df_no_outliers['CustomerFeedback'] < (Q1-1.5*IQR)) | (df_no_outliers['CustomerFeedback'] > (Q3+1.5*IQR))]\n",
    "outliers_CF['CustomerFeedback'].value_counts()"
   ]
  },
  {
   "cell_type": "markdown",
   "metadata": {},
   "source": [
    "Si volvemos a la definición de CustomerFeedback nos encontramos con que la definición es \"valores de entre el 1 al 10\", así que los 45 valores estarían dentro del rango y los 42 ceros puede ser que simplemente los clientes no hayan dado una valoración. En el gráfico realmente lo que podemos deducir es que la mayoría de valoraciones están entre el 4 y el 6 y por lo tanto no serían outliers."
   ]
  },
  {
   "cell_type": "code",
   "execution_count": 56,
   "metadata": {},
   "outputs": [],
   "source": [
    "df_no_outliers['CustomerFeedback'] = df_no_outliers['CustomerFeedback'].replace(0., df_no_outliers['CustomerFeedback'].mean())"
   ]
  },
  {
   "cell_type": "markdown",
   "metadata": {},
   "source": [
    "En variables categóricas, así como la variable del tiempo, quizá no podemos hablar de outliers propiamente pero vamos a anlizarlas a ver si hay algún caso raro que debamos gestionar."
   ]
  },
  {
   "cell_type": "code",
   "execution_count": 59,
   "metadata": {},
   "outputs": [
    {
     "name": "stdout",
     "output_type": "stream",
     "text": [
      "ProductCategory : ['Books' 'Home Goods' 'Electronics' 'Clothing' 'Accessories'] \n",
      "\n",
      "PaymentMethod : ['Credit Card' 'Bank Transfer' 'PayPal'] \n",
      "\n",
      "ReturnStatus : ['Yes' 'No'] \n",
      "\n"
     ]
    }
   ],
   "source": [
    "# Analiza los valores únicos de las variables categóricas y gestiona los casos raros\n",
    "columns_to_explore = ['ProductCategory', 'PaymentMethod', 'ReturnStatus']\n",
    "\n",
    "for column in columns_to_explore:\n",
    "    print(column, \":\", df_no_outliers[column].unique(), \"\\n\")"
   ]
  },
  {
   "cell_type": "code",
   "execution_count": 58,
   "metadata": {},
   "outputs": [],
   "source": [
    "df_no_outliers['ProductCategory'] = df_no_outliers['ProductCategory'].replace('books', 'Books')"
   ]
  },
  {
   "cell_type": "code",
   "execution_count": 62,
   "metadata": {},
   "outputs": [
    {
     "name": "stdout",
     "output_type": "stream",
     "text": [
      "2023-01-01 00:19:58\n",
      "2023-12-31 23:50:44\n"
     ]
    }
   ],
   "source": [
    "# Analiza el rango de fechas del dataset y, si es necesario, gestiona los casos raros\n",
    "print(df_no_outliers['TransactionDate'].min())\n",
    "print(df_no_outliers['TransactionDate'].max())"
   ]
  },
  {
   "cell_type": "markdown",
   "metadata": {},
   "source": [
    "Los datos de la fecha serían correctos porque en la descripción del dataset nos decía que pertenecía al año 2023 en completo."
   ]
  },
  {
   "cell_type": "markdown",
   "metadata": {},
   "source": [
    "### 2.4 Gestión de duplicados"
   ]
  },
  {
   "cell_type": "code",
   "execution_count": 63,
   "metadata": {},
   "outputs": [],
   "source": [
    "# Analiza si hay duplicados en el dataset, en general o por un subset de las columnas\n",
    "df_sin_duplicados = df_no_outliers.copy()"
   ]
  },
  {
   "cell_type": "code",
   "execution_count": 64,
   "metadata": {},
   "outputs": [
    {
     "data": {
      "text/plain": [
       "0       False\n",
       "1       False\n",
       "2       False\n",
       "3       False\n",
       "4       False\n",
       "        ...  \n",
       "5045     True\n",
       "5046     True\n",
       "5047     True\n",
       "5048     True\n",
       "5049     True\n",
       "Length: 5050, dtype: bool"
      ]
     },
     "execution_count": 64,
     "metadata": {},
     "output_type": "execute_result"
    }
   ],
   "source": [
    "df_sin_duplicados.duplicated()"
   ]
  },
  {
   "cell_type": "markdown",
   "metadata": {},
   "source": [
    "***"
   ]
  },
  {
   "cell_type": "markdown",
   "metadata": {},
   "source": [
    "## 3. Feature Engineering: creación de nuevas variables\n",
    "En algunos casos, podemos crear nuevas variables a partir de las que ya tenemos, que puedan enriquecer el análisis."
   ]
  },
  {
   "cell_type": "code",
   "execution_count": 43,
   "metadata": {},
   "outputs": [],
   "source": [
    "# ¿Qué variables podría ser interesante crear?\n",
    "# Algunas ideas con pistas, enfocadas en el análisis que queremos hacer:\n",
    "# - Nos piden hacer un análisis de la facturación total por meses\n",
    "# - Nos piden segmentar los productos y categorías de productos por el feedback recibido, para saber los que peor valoración tienen"
   ]
  },
  {
   "cell_type": "markdown",
   "metadata": {},
   "source": [
    "***"
   ]
  },
  {
   "cell_type": "code",
   "execution_count": 44,
   "metadata": {},
   "outputs": [
    {
     "ename": "NameError",
     "evalue": "name 'df_cleaned' is not defined",
     "output_type": "error",
     "traceback": [
      "\u001b[0;31m---------------------------------------------------------------------------\u001b[0m",
      "\u001b[0;31mNameError\u001b[0m                                 Traceback (most recent call last)",
      "Cell \u001b[0;32mIn[44], line 1\u001b[0m\n\u001b[0;32m----> 1\u001b[0m \u001b[43mdf_cleaned\u001b[49m\u001b[38;5;241m.\u001b[39mhead()\n",
      "\u001b[0;31mNameError\u001b[0m: name 'df_cleaned' is not defined"
     ]
    }
   ],
   "source": [
    "df_cleaned.head()"
   ]
  },
  {
   "cell_type": "markdown",
   "metadata": {},
   "source": [
    "## 4. Combinación con otros datasets\n",
    "Además del dataset de transacciones, contamos con un dataset sobre los clientes, que podremos utilizar para hacer análisis más completos."
   ]
  },
  {
   "cell_type": "code",
   "execution_count": null,
   "metadata": {},
   "outputs": [],
   "source": [
    "# Carga el dataset\n",
    "df_customers = "
   ]
  },
  {
   "cell_type": "code",
   "execution_count": 13,
   "metadata": {},
   "outputs": [
    {
     "data": {
      "text/html": [
       "<div>\n",
       "<style scoped>\n",
       "    .dataframe tbody tr th:only-of-type {\n",
       "        vertical-align: middle;\n",
       "    }\n",
       "\n",
       "    .dataframe tbody tr th {\n",
       "        vertical-align: top;\n",
       "    }\n",
       "\n",
       "    .dataframe thead th {\n",
       "        text-align: right;\n",
       "    }\n",
       "</style>\n",
       "<table border=\"1\" class=\"dataframe\">\n",
       "  <thead>\n",
       "    <tr style=\"text-align: right;\">\n",
       "      <th></th>\n",
       "      <th>CustomerID</th>\n",
       "      <th>Location</th>\n",
       "      <th>Age</th>\n",
       "      <th>Gender</th>\n",
       "      <th>CustomerSince</th>\n",
       "      <th>LoyaltyPoints</th>\n",
       "    </tr>\n",
       "  </thead>\n",
       "  <tbody>\n",
       "    <tr>\n",
       "      <th>0</th>\n",
       "      <td>CUST1012</td>\n",
       "      <td>Los Angeles</td>\n",
       "      <td>46</td>\n",
       "      <td>Female</td>\n",
       "      <td>2022-09-02</td>\n",
       "      <td>3828</td>\n",
       "    </tr>\n",
       "    <tr>\n",
       "      <th>1</th>\n",
       "      <td>CUST1125</td>\n",
       "      <td>NY</td>\n",
       "      <td>60</td>\n",
       "      <td>Other</td>\n",
       "      <td>2023-11-28</td>\n",
       "      <td>1008</td>\n",
       "    </tr>\n",
       "    <tr>\n",
       "      <th>2</th>\n",
       "      <td>CUST1377</td>\n",
       "      <td>LA</td>\n",
       "      <td>28</td>\n",
       "      <td>Male</td>\n",
       "      <td>2022-09-29</td>\n",
       "      <td>1229</td>\n",
       "    </tr>\n",
       "    <tr>\n",
       "      <th>3</th>\n",
       "      <td>CUST1379</td>\n",
       "      <td>Phoenix</td>\n",
       "      <td>35</td>\n",
       "      <td>Female</td>\n",
       "      <td>2023-03-16</td>\n",
       "      <td>1035</td>\n",
       "    </tr>\n",
       "    <tr>\n",
       "      <th>4</th>\n",
       "      <td>CUST1044</td>\n",
       "      <td>Los Angeles</td>\n",
       "      <td>64</td>\n",
       "      <td>Male</td>\n",
       "      <td>2022-08-27</td>\n",
       "      <td>4585</td>\n",
       "    </tr>\n",
       "  </tbody>\n",
       "</table>\n",
       "</div>"
      ],
      "text/plain": [
       "  CustomerID     Location  Age  Gender CustomerSince  LoyaltyPoints\n",
       "0   CUST1012  Los Angeles   46  Female    2022-09-02           3828\n",
       "1   CUST1125           NY   60   Other    2023-11-28           1008\n",
       "2   CUST1377           LA   28    Male    2022-09-29           1229\n",
       "3   CUST1379      Phoenix   35  Female    2023-03-16           1035\n",
       "4   CUST1044  Los Angeles   64    Male    2022-08-27           4585"
      ]
     },
     "execution_count": 13,
     "metadata": {},
     "output_type": "execute_result"
    }
   ],
   "source": [
    "df_customers.head()"
   ]
  },
  {
   "cell_type": "code",
   "execution_count": 15,
   "metadata": {},
   "outputs": [
    {
     "name": "stdout",
     "output_type": "stream",
     "text": [
      "<class 'pandas.core.frame.DataFrame'>\n",
      "RangeIndex: 501 entries, 0 to 500\n",
      "Data columns (total 6 columns):\n",
      " #   Column         Non-Null Count  Dtype \n",
      "---  ------         --------------  ----- \n",
      " 0   CustomerID     501 non-null    object\n",
      " 1   Location       501 non-null    object\n",
      " 2   Age            501 non-null    int64 \n",
      " 3   Gender         501 non-null    object\n",
      " 4   CustomerSince  501 non-null    object\n",
      " 5   LoyaltyPoints  501 non-null    int64 \n",
      "dtypes: int64(2), object(4)\n",
      "memory usage: 23.6+ KB\n"
     ]
    }
   ],
   "source": [
    "df_customers.info()"
   ]
  },
  {
   "cell_type": "code",
   "execution_count": 18,
   "metadata": {},
   "outputs": [],
   "source": [
    "# Cambiamos tipo de variable de CustomerSince\n",
    "\n",
    "df_customers['CustomerSince'] = pd.to_datetime(df_customers['CustomerSince'], format = '%Y-%m-%d')"
   ]
  },
  {
   "cell_type": "code",
   "execution_count": 19,
   "metadata": {},
   "outputs": [
    {
     "data": {
      "text/html": [
       "<div>\n",
       "<style scoped>\n",
       "    .dataframe tbody tr th:only-of-type {\n",
       "        vertical-align: middle;\n",
       "    }\n",
       "\n",
       "    .dataframe tbody tr th {\n",
       "        vertical-align: top;\n",
       "    }\n",
       "\n",
       "    .dataframe thead th {\n",
       "        text-align: right;\n",
       "    }\n",
       "</style>\n",
       "<table border=\"1\" class=\"dataframe\">\n",
       "  <thead>\n",
       "    <tr style=\"text-align: right;\">\n",
       "      <th></th>\n",
       "      <th>CustomerID</th>\n",
       "      <th>Location</th>\n",
       "      <th>Age</th>\n",
       "      <th>Gender</th>\n",
       "      <th>CustomerSince</th>\n",
       "      <th>LoyaltyPoints</th>\n",
       "    </tr>\n",
       "  </thead>\n",
       "  <tbody>\n",
       "    <tr>\n",
       "      <th>0</th>\n",
       "      <td>CUST1012</td>\n",
       "      <td>Los Angeles</td>\n",
       "      <td>46</td>\n",
       "      <td>Female</td>\n",
       "      <td>2022-09-02</td>\n",
       "      <td>3828</td>\n",
       "    </tr>\n",
       "    <tr>\n",
       "      <th>1</th>\n",
       "      <td>CUST1125</td>\n",
       "      <td>NY</td>\n",
       "      <td>60</td>\n",
       "      <td>Other</td>\n",
       "      <td>2023-11-28</td>\n",
       "      <td>1008</td>\n",
       "    </tr>\n",
       "    <tr>\n",
       "      <th>2</th>\n",
       "      <td>CUST1377</td>\n",
       "      <td>LA</td>\n",
       "      <td>28</td>\n",
       "      <td>Male</td>\n",
       "      <td>2022-09-29</td>\n",
       "      <td>1229</td>\n",
       "    </tr>\n",
       "    <tr>\n",
       "      <th>3</th>\n",
       "      <td>CUST1379</td>\n",
       "      <td>Phoenix</td>\n",
       "      <td>35</td>\n",
       "      <td>Female</td>\n",
       "      <td>2023-03-16</td>\n",
       "      <td>1035</td>\n",
       "    </tr>\n",
       "    <tr>\n",
       "      <th>4</th>\n",
       "      <td>CUST1044</td>\n",
       "      <td>Los Angeles</td>\n",
       "      <td>64</td>\n",
       "      <td>Male</td>\n",
       "      <td>2022-08-27</td>\n",
       "      <td>4585</td>\n",
       "    </tr>\n",
       "    <tr>\n",
       "      <th>...</th>\n",
       "      <td>...</td>\n",
       "      <td>...</td>\n",
       "      <td>...</td>\n",
       "      <td>...</td>\n",
       "      <td>...</td>\n",
       "      <td>...</td>\n",
       "    </tr>\n",
       "    <tr>\n",
       "      <th>496</th>\n",
       "      <td>CUST1438</td>\n",
       "      <td>Phoenix</td>\n",
       "      <td>35</td>\n",
       "      <td>Male</td>\n",
       "      <td>2022-01-01</td>\n",
       "      <td>4878</td>\n",
       "    </tr>\n",
       "    <tr>\n",
       "      <th>497</th>\n",
       "      <td>CUST1114</td>\n",
       "      <td>NY</td>\n",
       "      <td>57</td>\n",
       "      <td>Female</td>\n",
       "      <td>2022-04-29</td>\n",
       "      <td>2320</td>\n",
       "    </tr>\n",
       "    <tr>\n",
       "      <th>498</th>\n",
       "      <td>CUST1106</td>\n",
       "      <td>Chicago</td>\n",
       "      <td>25</td>\n",
       "      <td>Male</td>\n",
       "      <td>2022-02-04</td>\n",
       "      <td>935</td>\n",
       "    </tr>\n",
       "    <tr>\n",
       "      <th>499</th>\n",
       "      <td>CUST1499</td>\n",
       "      <td>Los Angeles</td>\n",
       "      <td>56</td>\n",
       "      <td>Male</td>\n",
       "      <td>2022-07-17</td>\n",
       "      <td>2230</td>\n",
       "    </tr>\n",
       "    <tr>\n",
       "      <th>500</th>\n",
       "      <td>CUST1165</td>\n",
       "      <td>Phoenix</td>\n",
       "      <td>57</td>\n",
       "      <td>Female</td>\n",
       "      <td>2023-04-30</td>\n",
       "      <td>4040</td>\n",
       "    </tr>\n",
       "  </tbody>\n",
       "</table>\n",
       "<p>501 rows × 6 columns</p>\n",
       "</div>"
      ],
      "text/plain": [
       "    CustomerID     Location  Age  Gender CustomerSince  LoyaltyPoints\n",
       "0     CUST1012  Los Angeles   46  Female    2022-09-02           3828\n",
       "1     CUST1125           NY   60   Other    2023-11-28           1008\n",
       "2     CUST1377           LA   28    Male    2022-09-29           1229\n",
       "3     CUST1379      Phoenix   35  Female    2023-03-16           1035\n",
       "4     CUST1044  Los Angeles   64    Male    2022-08-27           4585\n",
       "..         ...          ...  ...     ...           ...            ...\n",
       "496   CUST1438      Phoenix   35    Male    2022-01-01           4878\n",
       "497   CUST1114           NY   57  Female    2022-04-29           2320\n",
       "498   CUST1106      Chicago   25    Male    2022-02-04            935\n",
       "499   CUST1499  Los Angeles   56    Male    2022-07-17           2230\n",
       "500   CUST1165      Phoenix   57  Female    2023-04-30           4040\n",
       "\n",
       "[501 rows x 6 columns]"
      ]
     },
     "execution_count": 19,
     "metadata": {},
     "output_type": "execute_result"
    }
   ],
   "source": [
    "df_customers"
   ]
  },
  {
   "cell_type": "code",
   "execution_count": 20,
   "metadata": {},
   "outputs": [
    {
     "data": {
      "text/plain": [
       "<Axes: xlabel='Age'>"
      ]
     },
     "execution_count": 20,
     "metadata": {},
     "output_type": "execute_result"
    },
    {
     "data": {
      "image/png": "[encoded data removed]",
      "text/plain": [
       "<Figure size 640x480 with 1 Axes>"
      ]
     },
     "metadata": {},
     "output_type": "display_data"
    }
   ],
   "source": [
    "sns.boxplot(data=df_customers, x='Age')"
   ]
  },
  {
   "cell_type": "code",
   "execution_count": 22,
   "metadata": {},
   "outputs": [
    {
     "data": {
      "text/plain": [
       "<Axes: xlabel='LoyaltyPoints', ylabel='Count'>"
      ]
     },
     "execution_count": 22,
     "metadata": {},
     "output_type": "execute_result"
    },
    {
     "data": {
      "image/png": "[encoded data removed]",
      "text/plain": [
       "<Figure size 640x480 with 1 Axes>"
      ]
     },
     "metadata": {},
     "output_type": "display_data"
    }
   ],
   "source": [
    "sns.histplot(data=df_customers, x='LoyaltyPoints')"
   ]
  },
  {
   "cell_type": "code",
   "execution_count": 32,
   "metadata": {},
   "outputs": [
    {
     "name": "stdout",
     "output_type": "stream",
     "text": [
      "Media:  43.395209580838326\n",
      "STD:  21.62867302924495\n",
      "0    46\n",
      "1    60\n",
      "2    28\n",
      "3    35\n",
      "4    64\n",
      "Name: Age, dtype: int64\n"
     ]
    },
    {
     "data": {
      "text/html": [
       "<div>\n",
       "<style scoped>\n",
       "    .dataframe tbody tr th:only-of-type {\n",
       "        vertical-align: middle;\n",
       "    }\n",
       "\n",
       "    .dataframe tbody tr th {\n",
       "        vertical-align: top;\n",
       "    }\n",
       "\n",
       "    .dataframe thead th {\n",
       "        text-align: right;\n",
       "    }\n",
       "</style>\n",
       "<table border=\"1\" class=\"dataframe\">\n",
       "  <thead>\n",
       "    <tr style=\"text-align: right;\">\n",
       "      <th></th>\n",
       "      <th>CustomerID</th>\n",
       "      <th>Location</th>\n",
       "      <th>Age</th>\n",
       "      <th>Gender</th>\n",
       "      <th>CustomerSince</th>\n",
       "      <th>LoyaltyPoints</th>\n",
       "      <th>Age_zscore</th>\n",
       "    </tr>\n",
       "  </thead>\n",
       "  <tbody>\n",
       "    <tr>\n",
       "      <th>0</th>\n",
       "      <td>CUST1012</td>\n",
       "      <td>Los Angeles</td>\n",
       "      <td>46</td>\n",
       "      <td>Female</td>\n",
       "      <td>2022-09-02</td>\n",
       "      <td>3828</td>\n",
       "      <td>0.120553</td>\n",
       "    </tr>\n",
       "    <tr>\n",
       "      <th>1</th>\n",
       "      <td>CUST1125</td>\n",
       "      <td>NY</td>\n",
       "      <td>60</td>\n",
       "      <td>Other</td>\n",
       "      <td>2023-11-28</td>\n",
       "      <td>1008</td>\n",
       "      <td>0.768489</td>\n",
       "    </tr>\n",
       "    <tr>\n",
       "      <th>2</th>\n",
       "      <td>CUST1377</td>\n",
       "      <td>LA</td>\n",
       "      <td>28</td>\n",
       "      <td>Male</td>\n",
       "      <td>2022-09-29</td>\n",
       "      <td>1229</td>\n",
       "      <td>-0.712508</td>\n",
       "    </tr>\n",
       "    <tr>\n",
       "      <th>3</th>\n",
       "      <td>CUST1379</td>\n",
       "      <td>Phoenix</td>\n",
       "      <td>35</td>\n",
       "      <td>Female</td>\n",
       "      <td>2023-03-16</td>\n",
       "      <td>1035</td>\n",
       "      <td>-0.388540</td>\n",
       "    </tr>\n",
       "    <tr>\n",
       "      <th>4</th>\n",
       "      <td>CUST1044</td>\n",
       "      <td>Los Angeles</td>\n",
       "      <td>64</td>\n",
       "      <td>Male</td>\n",
       "      <td>2022-08-27</td>\n",
       "      <td>4585</td>\n",
       "      <td>0.953613</td>\n",
       "    </tr>\n",
       "  </tbody>\n",
       "</table>\n",
       "</div>"
      ],
      "text/plain": [
       "  CustomerID     Location  Age  Gender CustomerSince  LoyaltyPoints  \\\n",
       "0   CUST1012  Los Angeles   46  Female    2022-09-02           3828   \n",
       "1   CUST1125           NY   60   Other    2023-11-28           1008   \n",
       "2   CUST1377           LA   28    Male    2022-09-29           1229   \n",
       "3   CUST1379      Phoenix   35  Female    2023-03-16           1035   \n",
       "4   CUST1044  Los Angeles   64    Male    2022-08-27           4585   \n",
       "\n",
       "   Age_zscore  \n",
       "0    0.120553  \n",
       "1    0.768489  \n",
       "2   -0.712508  \n",
       "3   -0.388540  \n",
       "4    0.953613  "
      ]
     },
     "execution_count": 32,
     "metadata": {},
     "output_type": "execute_result"
    }
   ],
   "source": [
    "# Gestionamos los outliers de Age utilizando Zscore\n",
    "# from scipy.stats import zscore\n",
    "print('Media: ', df_customers['Age'].mean())\n",
    "print('STD: ', df_customers['Age'].std())\n",
    "print(df_customers['Age'].head())\n",
    "df_customers['Age_zscore'] = zscore(df_customers['Age'])\n",
    "df_customers.head()"
   ]
  },
  {
   "cell_type": "code",
   "execution_count": 34,
   "metadata": {},
   "outputs": [],
   "source": [
    "age_outliers = df_customers[abs(df_customers['Age_zscore'])>3]"
   ]
  },
  {
   "cell_type": "code",
   "execution_count": 35,
   "metadata": {},
   "outputs": [],
   "source": [
    "df_customers.loc[age_outliers.index, 'Age'] = df_customers['Age'].median()"
   ]
  },
  {
   "cell_type": "code",
   "execution_count": 36,
   "metadata": {},
   "outputs": [
    {
     "data": {
      "text/plain": [
       "<Axes: xlabel='Age'>"
      ]
     },
     "execution_count": 36,
     "metadata": {},
     "output_type": "execute_result"
    },
    {
     "data": {
      "image/png": "[encoded data removed]",
      "text/plain": [
       "<Figure size 640x480 with 1 Axes>"
      ]
     },
     "metadata": {},
     "output_type": "display_data"
    }
   ],
   "source": [
    "sns.boxplot(data=df_customers, x='Age')"
   ]
  },
  {
   "cell_type": "code",
   "execution_count": 37,
   "metadata": {},
   "outputs": [],
   "source": [
    "df_customers['Age'] = df_customers['Age'].replace(-20, df_customers['Age'].median())"
   ]
  },
  {
   "cell_type": "code",
   "execution_count": 38,
   "metadata": {},
   "outputs": [],
   "source": [
    "df_customers_cleaned = df_customers.copy()"
   ]
  },
  {
   "cell_type": "code",
   "execution_count": 39,
   "metadata": {},
   "outputs": [
    {
     "data": {
      "text/plain": [
       "array(['Los Angeles', 'NY', 'LA', 'Phoenix', 'Houston', 'New York',\n",
       "       'Chicago'], dtype=object)"
      ]
     },
     "execution_count": 39,
     "metadata": {},
     "output_type": "execute_result"
    }
   ],
   "source": [
    "# Gestionamos los diferentes valores que hay en Location\n",
    "df_customers_cleaned['Location'].unique()"
   ]
  },
  {
   "cell_type": "code",
   "execution_count": 42,
   "metadata": {},
   "outputs": [
    {
     "data": {
      "text/plain": [
       "array(['Los Angeles', 'New York', 'Phoenix', 'Houston', 'Chicago'],\n",
       "      dtype=object)"
      ]
     },
     "execution_count": 42,
     "metadata": {},
     "output_type": "execute_result"
    }
   ],
   "source": [
    "df_customers_cleaned['Location'] = df_customers_cleaned['Location'].replace({'NY': 'New York', 'LA': 'Los Angeles'})\n",
    "df_customers_cleaned['Location'].unique()"
   ]
  },
  {
   "cell_type": "code",
   "execution_count": 45,
   "metadata": {},
   "outputs": [
    {
     "data": {
      "text/plain": [
       "0"
      ]
     },
     "execution_count": 45,
     "metadata": {},
     "output_type": "execute_result"
    }
   ],
   "source": [
    "# ¿Hay duplicados?\n",
    "df_customers_cleaned.duplicated().sum()"
   ]
  },
  {
   "cell_type": "code",
   "execution_count": null,
   "metadata": {},
   "outputs": [],
   "source": [
    "# Haz un análisis general del dataset para entender qué columnas tiene"
   ]
  },
  {
   "cell_type": "code",
   "execution_count": null,
   "metadata": {},
   "outputs": [],
   "source": [
    "# ¿Hace falta gestionar algún null, tipo de variable, outlier o duplicado como hemos hecho previamente?\n"
   ]
  },
  {
   "cell_type": "markdown",
   "metadata": {},
   "source": [
    "Una vez hemos entendido y limpiado (en caso de ser necesario) el dataset sobre clientes, nos proponemos contestar las siguientes preguntas: <n>\n",
    "\n",
    "¿Dónde vendemos más productos? ¿Y qué categoría de productos? ¿Quiénes son nuestros clientes?"
   ]
  },
  {
   "cell_type": "code",
   "execution_count": null,
   "metadata": {},
   "outputs": [],
   "source": [
    "# Guía para hacer joins en pandas: https://pandas.pydata.org/pandas-docs/stable/user_guide/merging.html#merging-join\n",
    "\n",
    "# ¿Qué tipo de join es más apropiado en este caso? "
   ]
  },
  {
   "cell_type": "code",
   "execution_count": null,
   "metadata": {},
   "outputs": [],
   "source": [
    "df_merged = pd.merged(df_cleaned, df_customers_cleaned, on='CustomerID', how='left')\n",
    "df_merged.head()"
   ]
  },
  {
   "cell_type": "markdown",
   "metadata": {},
   "source": [
    "***"
   ]
  },
  {
   "cell_type": "code",
   "execution_count": 48,
   "metadata": {},
   "outputs": [
    {
     "data": {
      "text/html": [
       "<div>\n",
       "<style scoped>\n",
       "    .dataframe tbody tr th:only-of-type {\n",
       "        vertical-align: middle;\n",
       "    }\n",
       "\n",
       "    .dataframe tbody tr th {\n",
       "        vertical-align: top;\n",
       "    }\n",
       "\n",
       "    .dataframe thead th {\n",
       "        text-align: right;\n",
       "    }\n",
       "</style>\n",
       "<table border=\"1\" class=\"dataframe\">\n",
       "  <thead>\n",
       "    <tr style=\"text-align: right;\">\n",
       "      <th></th>\n",
       "      <th>CustomerID</th>\n",
       "      <th>Location</th>\n",
       "      <th>Age</th>\n",
       "      <th>Gender</th>\n",
       "      <th>CustomerSince</th>\n",
       "      <th>LoyaltyPoints</th>\n",
       "      <th>Age_zscore</th>\n",
       "    </tr>\n",
       "  </thead>\n",
       "  <tbody>\n",
       "    <tr>\n",
       "      <th>0</th>\n",
       "      <td>CUST1012</td>\n",
       "      <td>Los Angeles</td>\n",
       "      <td>46</td>\n",
       "      <td>Female</td>\n",
       "      <td>2022-09-02</td>\n",
       "      <td>3828</td>\n",
       "      <td>0.120553</td>\n",
       "    </tr>\n",
       "  </tbody>\n",
       "</table>\n",
       "</div>"
      ],
      "text/plain": [
       "  CustomerID     Location  Age  Gender CustomerSince  LoyaltyPoints  \\\n",
       "0   CUST1012  Los Angeles   46  Female    2022-09-02           3828   \n",
       "\n",
       "   Age_zscore  \n",
       "0    0.120553  "
      ]
     },
     "execution_count": 48,
     "metadata": {},
     "output_type": "execute_result"
    }
   ],
   "source": [
    "df_customers_cleaned[df_customers_cleaned['CustomerID'] == 'CUST1012']"
   ]
  },
  {
   "cell_type": "code",
   "execution_count": null,
   "metadata": {},
   "outputs": [],
   "source": [
    "# Contestar preguntas_ conteo de pedidos por Localización\n",
    "df_merged.groupby('Location').size()"
   ]
  },
  {
   "cell_type": "code",
   "execution_count": null,
   "metadata": {},
   "outputs": [],
   "source": [
    "transactions_by_location = df_merged.groupby('Location').size().reset_index(name='TransactionCount')\n",
    "print(transactions_by_location.head())"
   ]
  },
  {
   "cell_type": "code",
   "execution_count": null,
   "metadata": {},
   "outputs": [],
   "source": [
    "sns.barplot(data=transactions_by_location, x='Location', y='TransactionCount', hue='Location', palette='viridis')"
   ]
  },
  {
   "cell_type": "markdown",
   "metadata": {},
   "source": [
    "## 5. Análisis de negocio\n",
    "Una vez hemos limpiado y preparado nuestros datasets, podemos hacer un análisis más enfocado a negocio. ¿Qué ocurrirá? Que a medida que vayamos planteando preguntas, tendremos que hacer ajustes similares a los que ya hemos hecho, generando nuevas variables y ajustando los datos al objetivo concreto."
   ]
  },
  {
   "cell_type": "markdown",
   "metadata": {},
   "source": [
    "## Entender el comportamiento de compra\n",
    "\n",
    "Analizar la frecuencia de compra, el tamaño de compra media y los productos más populares."
   ]
  },
  {
   "cell_type": "code",
   "execution_count": null,
   "metadata": {},
   "outputs": [],
   "source": [
    "# ¿Cuántas transacciones realiza cada cliente?\n",
    "purchase_frequency = df_merged.groupby('CustomerID')['TransactionID'].nunique().reset_index(name='PurchaseFrequency')\n",
    "\n",
    "print(purchase_frequency.sort_values(by='PurchaseFrequency', ascending=False).head(6))"
   ]
  },
  {
   "cell_type": "code",
   "execution_count": null,
   "metadata": {},
   "outputs": [],
   "source": [
    "top_5_clients = []\n",
    "for client in top_5_clients:\n",
    "    print('Client: ', client)\n",
    "    print(df_customers_cleaned[df_customers_cleaned['CustomerID'] == client])"
   ]
  },
  {
   "cell_type": "code",
   "execution_count": null,
   "metadata": {},
   "outputs": [],
   "source": [
    "# ¿Cuánto se gastan de media nuestros clientes?\n",
    "average_purchase_by_location = df_merged.groupby(['CustomerID', 'Location'])['TotalAmount'].mean().reset_index(name='AveragePurchase')"
   ]
  },
  {
   "cell_type": "code",
   "execution_count": null,
   "metadata": {},
   "outputs": [],
   "source": [
    "sns.boxplot()"
   ]
  },
  {
   "cell_type": "markdown",
   "metadata": {},
   "source": [
    "## Entender la satisfacción del cliente con nuestros productos\n",
    "\n",
    "Analizamos las valoraciones de los productos."
   ]
  }
 ],
 "metadata": {
  "kernelspec": {
   "display_name": "Python 3",
   "language": "python",
   "name": "python3"
  },
  "language_info": {
   "codemirror_mode": {
    "name": "ipython",
    "version": 3
   },
   "file_extension": ".py",
   "mimetype": "text/x-python",
   "name": "python",
   "nbconvert_exporter": "python",
   "pygments_lexer": "ipython3",
   "version": "3.11.9"
  }
 },
 "nbformat": 4,
 "nbformat_minor": 2
}
